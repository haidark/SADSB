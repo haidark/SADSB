{
 "cells": [
  {
   "cell_type": "code",
   "execution_count": 1,
   "metadata": {
    "collapsed": false
   },
   "outputs": [
    {
     "name": "stderr",
     "output_type": "stream",
     "text": [
      "Using Theano backend.\n",
      "/usr/local/lib/python2.7/dist-packages/theano/tensor/signal/downsample.py:5: UserWarning: downsample module has been moved to the pool module.\n",
      "  warnings.warn(\"downsample module has been moved to the pool module.\")\n"
     ]
    },
    {
     "name": "stdout",
     "output_type": "stream",
     "text": [
      "Couldn't import dot_parser, loading of dot files will not be possible.\n",
      "Loading and compiling models...\n",
      "Done loading models...\n"
     ]
    },
    {
     "name": "stderr",
     "output_type": "stream",
     "text": [
      "Using gpu device 0: GeForce GTX 980 Ti (CNMeM is enabled with initial size: 0.85% of memory, CuDNN 3007)\n"
     ]
    }
   ],
   "source": [
    "from __future__ import print_function\n",
    "\n",
    "import sys\n",
    "import h5py\n",
    "import numpy as np\n",
    "from keras.preprocessing.image import ImageDataGenerator\n",
    "from model import get_model\n",
    "from utils import crps, real_to_cdf, preprocess, rotation_augmentation, shift_augmentation\n",
    "\n",
    "DATA_DIR = '/media/haidar/Storage/Data/SADSB/'\n",
    "\n",
    "\"\"\"\n",
    "Training systole and diastole models.\n",
    "\"\"\"\n",
    "print('Loading and compiling models...')\n",
    "model_systole = get_model()\n",
    "model_diastole = get_model()\n",
    "print('Done loading models...')"
   ]
  },
  {
   "cell_type": "code",
   "execution_count": null,
   "metadata": {
    "collapsed": false
   },
   "outputs": [
    {
     "name": "stdout",
     "output_type": "stream",
     "text": [
      "Loading training data...\n",
      "(4831, 30, 256, 256)\n",
      "(4831, 2)\n",
      "(516, 30, 256, 256)\n",
      "(516, 2)\n"
     ]
    }
   ],
   "source": [
    "print('Loading training data...')\n",
    "\"\"\"\n",
    "Load training data from .npy files.\n",
    "\"\"\"\n",
    "trainFile = h5py.File(DATA_DIR+'trainData.h5', 'r')\n",
    "XTrain = trainFile['XTrain']\n",
    "YTrain = trainFile['YTrain']\n",
    "XVal = trainFile['XVal']\n",
    "YVal = trainFile['YVal']\n",
    "\n",
    "print(XTrain.shape)\n",
    "print(YTrain.shape)\n",
    "print(XVal.shape)\n",
    "print(YVal.shape)"
   ]
  },
  {
   "cell_type": "code",
   "execution_count": null,
   "metadata": {
    "collapsed": false
   },
   "outputs": [
    {
     "name": "stdout",
     "output_type": "stream",
     "text": [
      "--------------------------------------------------\n",
      "Training...\n",
      "--------------------------------------------------\n",
      "--------------------------------------------------\n",
      "Iteration 1/200\n",
      "--------------------------------------------------\n",
      "Fitting systole model...\n",
      "Epoch 1/1\n",
      " 128/4831 [..............................] - ETA: 1836s - loss: 199678.6074"
     ]
    }
   ],
   "source": [
    "nb_iter = 200\n",
    "epochs_per_iter = 1\n",
    "batch_size = 2\n",
    "calc_crps = 1  # calculate CRPS every n-th iteration (set to 0 if CRPS estimation is not needed)\n",
    "\n",
    "datagen = ImageDataGenerator(\n",
    "    featurewise_center=False,\n",
    "    featurewise_std_normalization=False,\n",
    "    samplewise_center=True,\n",
    "    samplewise_std_normalization=True,\n",
    "    rotation_range=20,\n",
    "    width_shift_range=0.2,\n",
    "    height_shift_range=0.2,\n",
    "    horizontal_flip=False)\n",
    "\n",
    "# remember min val. losses (best iterations), used as sigmas for submission\n",
    "min_val_loss_systole = sys.float_info.max\n",
    "min_val_loss_diastole = sys.float_info.max\n",
    "\n",
    "print('-'*50)\n",
    "print('Training...')\n",
    "print('-'*50)\n",
    "\n",
    "for i in range(nb_iter):\n",
    "    print('-'*50)\n",
    "    print('Iteration {0}/{1}'.format(i + 1, nb_iter))\n",
    "    print('-'*50)\n",
    "\n",
    "    print('Fitting systole model...')\n",
    "    hist_systole = model_systole.fit_generator(datagen.flow(XTrain, YTrain[:,0], batch_size=batch_size), \n",
    "                                               nb_epoch=epochs_per_iter, samples_per_epoch=len(XTrain))\n",
    "    \n",
    "    hist_systole_val = model_systole.evaluate(XVal, YVal[:,0], batch_size=batch_size, \n",
    "                                              show_accuracy=False, verbose=1)\n",
    "    \n",
    "    print('Fitting diastole model...')\n",
    "    hist_diastole = model_diastole.fit_generator(datagen.flow(XTrain, YTrain[:,1], batch_size=batch_size), \n",
    "                                                 nb_epoch=epochs_per_iter, samples_per_epoch=len(XTrain))\n",
    "    \n",
    "    hist_diastole_val = model_diastole.evaluate(XVal, YVal[:,1], batch_size=batch_size, \n",
    "                                                show_accuracy=False, verbose=1)\n",
    "    \n",
    "    # sigmas for predicted data, actually loss function values (RMSE)\n",
    "    loss_systole = hist_systole.history['loss'][-1]\n",
    "    loss_diastole = hist_diastole.history['loss'][-1]\n",
    "    val_loss_systole = hist_systole_val #hist_systole.history['val_loss'][-1]\n",
    "    val_loss_diastole = hist_diastole_val #hist_diastole.history['val_loss'][-1]\n",
    "\n",
    "    if calc_crps > 0 and i % calc_crps == 0:\n",
    "        print('Evaluating CRPS...')\n",
    "        pred_systole = model_systole.predict(XTrain, batch_size=batch_size, verbose=1)\n",
    "        pred_diastole = model_diastole.predict(XTrain, batch_size=batch_size, verbose=1)\n",
    "        val_pred_systole = model_systole.predict(XVal, batch_size=batch_size, verbose=1)\n",
    "        val_pred_diastole = model_diastole.predict(XVal, batch_size=batch_size, verbose=1)\n",
    "\n",
    "        # CDF for train and test data (actually a step function)\n",
    "        cdf_train = real_to_cdf(np.concatenate((YTrain[:, 0], YTrain[:, 1])))\n",
    "        cdf_test = real_to_cdf(np.concatenate((YVal[:, 0], YVal[:, 1])))\n",
    "\n",
    "        # CDF for predicted data\n",
    "        cdf_pred_systole = real_to_cdf(pred_systole, loss_systole)\n",
    "        cdf_pred_diastole = real_to_cdf(pred_diastole, loss_diastole)\n",
    "        cdf_val_pred_systole = real_to_cdf(val_pred_systole, val_loss_systole)\n",
    "        cdf_val_pred_diastole = real_to_cdf(val_pred_diastole, val_loss_diastole)\n",
    "\n",
    "        # evaluate CRPS on training data\n",
    "        crps_train = crps(cdf_train, np.concatenate((cdf_pred_systole, cdf_pred_diastole)))\n",
    "        print('CRPS(train) = {0}'.format(crps_train))\n",
    "\n",
    "        # evaluate CRPS on test data\n",
    "        crps_test = crps(cdf_test, np.concatenate((cdf_val_pred_systole, cdf_val_pred_diastole)))\n",
    "        print('CRPS(val) = {0}'.format(crps_test))\n",
    "\n",
    "    print('Saving weights...')\n",
    "    # save weights so they can be loaded later\n",
    "    model_systole.save_weights('weights_systole.hdf5', overwrite=True)\n",
    "    model_diastole.save_weights('weights_diastole.hdf5', overwrite=True)\n",
    "\n",
    "    # for best (lowest) val losses, save weights\n",
    "    if val_loss_systole < min_val_loss_systole:\n",
    "        min_val_loss_systole = val_loss_systole\n",
    "        model_systole.save_weights('weights_systole_best.hdf5', overwrite=True)\n",
    "\n",
    "    if val_loss_diastole < min_val_loss_diastole:\n",
    "        min_val_loss_diastole = val_loss_diastole\n",
    "        model_diastole.save_weights('weights_diastole_best.hdf5', overwrite=True)\n",
    "\n",
    "    # save best (lowest) val losses in file (to be later used for generating submission)\n",
    "    with open('val_loss.txt', mode='w+') as f:\n",
    "        f.write(str(min_val_loss_systole))\n",
    "        f.write('\\n')\n",
    "        f.write(str(min_val_loss_diastole))"
   ]
  }
 ],
 "metadata": {
  "kernelspec": {
   "display_name": "Python 2",
   "language": "python",
   "name": "python2"
  },
  "language_info": {
   "codemirror_mode": {
    "name": "ipython",
    "version": 2
   },
   "file_extension": ".py",
   "mimetype": "text/x-python",
   "name": "python",
   "nbconvert_exporter": "python",
   "pygments_lexer": "ipython2",
   "version": "2.7.6"
  }
 },
 "nbformat": 4,
 "nbformat_minor": 0
}
