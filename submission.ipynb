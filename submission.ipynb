{
 "cells": [
  {
   "cell_type": "code",
   "execution_count": 1,
   "metadata": {
    "collapsed": false
   },
   "outputs": [
    {
     "name": "stderr",
     "output_type": "stream",
     "text": [
      "/usr/local/lib/python2.7/dist-packages/theano/tensor/signal/downsample.py:5: UserWarning: downsample module has been moved to the pool module.\n",
      "  warnings.warn(\"downsample module has been moved to the pool module.\")\n",
      "Using gpu device 0: GeForce GTX 980 Ti (CNMeM is enabled with initial size: 0.85% of memory, CuDNN 3007)"
     ]
    },
    {
     "name": "stdout",
     "output_type": "stream",
     "text": [
      "Using Theano backend.\n",
      "Couldn't import dot_parser, loading of dot files will not be possible.\n",
      "Loading and compiling models...\n",
      "Loading models weights...\n"
     ]
    },
    {
     "name": "stderr",
     "output_type": "stream",
     "text": [
      "\n"
     ]
    }
   ],
   "source": [
    "from __future__ import print_function\n",
    "\n",
    "import csv\n",
    "import numpy as np\n",
    "\n",
    "from model import get_model\n",
    "from utils import real_to_cdf, preprocess\n",
    "\n",
    "\n",
    "def accumulate_study_results(ids, prob):\n",
    "    \"\"\"\n",
    "    Accumulate results per study (because one study has many SAX slices),\n",
    "    so the averaged CDF for all slices is returned.\n",
    "    \"\"\"\n",
    "    sum_result = {}\n",
    "    cnt_result = {}\n",
    "    size = prob.shape[0]\n",
    "    for i in range(size):\n",
    "        study_id = ids[i]\n",
    "        idx = int(study_id)\n",
    "        if idx not in cnt_result:\n",
    "            cnt_result[idx] = 0.\n",
    "            sum_result[idx] = np.zeros((1, prob.shape[1]), dtype=np.float32)\n",
    "        cnt_result[idx] += 1\n",
    "        sum_result[idx] += prob[i, :]\n",
    "    for i in cnt_result.keys():\n",
    "        sum_result[i][:] /= cnt_result[i]\n",
    "    return sum_result\n",
    "\n",
    "\n",
    "\n",
    "\"\"\"\n",
    "Generate submission file for the trained models.\n",
    "\"\"\"\n",
    "print('Loading and compiling models...')\n",
    "model_systole = get_model()\n",
    "model_diastole = get_model()\n",
    "\n",
    "print('Loading models weights...')\n",
    "model_systole.load_weights('weights_systole_best.hdf5')\n",
    "model_diastole.load_weights('weights_diastole_best.hdf5')\n",
    "\n",
    "\n",
    "# load val losses to use as sigmas for CDF\n",
    "with open('val_loss.txt', mode='r') as f:\n",
    "    val_loss_systole = float(f.readline())\n",
    "    val_loss_diastole = float(f.readline())\n",
    "    "
   ]
  },
  {
   "cell_type": "code",
   "execution_count": null,
   "metadata": {
    "collapsed": true
   },
   "outputs": [],
   "source": [
    "import h5py\n",
    "\n",
    "DATA_DIR = '/media/haidar/Storage/Data/SADSB/'\n",
    "\n",
    "print('Loading validation data...')\n",
    "trainFile = h5py.File(DATA_DIR+'valData.h5', 'r')\n",
    "XVal = trainFile['XVal']\n",
    "YVal = trainFile['YVal']\n",
    "\n",
    "print(XVal.shape)\n",
    "print(YVal.shape)\n",
    "\n",
    "batch_size = 2\n",
    "print('Predicting on validation data...')\n",
    "pred_systole = model_systole.predict(XVal, batch_size=batch_size, verbose=1)\n",
    "pred_diastole = model_diastole.predict(XVal, batch_size=batch_size, verbose=1)\n",
    "\n",
    "# real predictions to CDF\n",
    "cdf_pred_systole = real_to_cdf(pred_systole, val_loss_systole)\n",
    "cdf_pred_diastole = real_to_cdf(pred_diastole, val_loss_diastole)\n",
    "\n",
    "print('Accumulating results...')\n",
    "sub_systole = accumulate_study_results(YVal, cdf_pred_systole)\n",
    "sub_diastole = accumulate_study_results(YVal, cdf_pred_diastole)\n",
    "\n",
    "# write to submission file\n",
    "print('Writing submission to file...')\n",
    "fi = csv.reader(open(DATA_DIR+'sample_submission_validate.csv'))\n",
    "f = open('submission.csv', 'w')\n",
    "fo = csv.writer(f, lineterminator='\\n')\n",
    "fo.writerow(fi.next())\n",
    "for line in fi:\n",
    "    idx = line[0]\n",
    "    key, target = idx.split('_')\n",
    "    key = int(key)\n",
    "    out = [idx]\n",
    "    if key in sub_systole:\n",
    "        if target == 'Diastole':\n",
    "            out.extend(list(sub_diastole[key][0]))\n",
    "        else:\n",
    "            out.extend(list(sub_systole[key][0]))\n",
    "    else:\n",
    "        print('Miss {0}'.format(idx))\n",
    "    fo.writerow(out)\n",
    "f.close()\n",
    "\n",
    "print('Done.')"
   ]
  }
 ],
 "metadata": {
  "kernelspec": {
   "display_name": "Python 2",
   "language": "python",
   "name": "python2"
  },
  "language_info": {
   "codemirror_mode": {
    "name": "ipython",
    "version": 2
   },
   "file_extension": ".py",
   "mimetype": "text/x-python",
   "name": "python",
   "nbconvert_exporter": "python",
   "pygments_lexer": "ipython2",
   "version": "2.7.6"
  }
 },
 "nbformat": 4,
 "nbformat_minor": 0
}
